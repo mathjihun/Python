{
  "nbformat": 4,
  "nbformat_minor": 0,
  "metadata": {
    "colab": {
      "name": "CNN_MNIST.ipynb",
      "provenance": [],
      "collapsed_sections": []
    },
    "kernelspec": {
      "name": "python3",
      "display_name": "Python 3"
    },
    "language_info": {
      "name": "python"
    }
  },
  "cells": [
    {
      "cell_type": "code",
      "execution_count": 6,
      "metadata": {
        "id": "5OsfKEWth-ln"
      },
      "outputs": [],
      "source": [
        "import torch\n",
        "import torchvision.datasets as datasets\n",
        "import torchvision.transforms as transforms\n",
        "import torch.nn as nn\n",
        "from torch.utils.data import DataLoader"
      ]
    },
    {
      "cell_type": "code",
      "source": [
        "device = 'cuda' if torch.cuda.is_available() else 'cpu'\n",
        "\n",
        "# 랜덤 시드 고정\n",
        "torch.manual_seed(777)\n",
        "\n",
        "# GPU 사용 가능일 경우 랜덤 시드 고정\n",
        "if device == 'cuda':\n",
        "    torch.cuda.manual_seed_all(777)"
      ],
      "metadata": {
        "id": "T9_M0a6CiZJU"
      },
      "execution_count": 3,
      "outputs": []
    },
    {
      "cell_type": "code",
      "source": [
        "# hyperparameter\n",
        "\n",
        "learning_rate = 0.001\n",
        "training_epochs = 5\n",
        "batch_size = 100"
      ],
      "metadata": {
        "id": "t92RVPN4icDT"
      },
      "execution_count": 7,
      "outputs": []
    },
    {
      "cell_type": "code",
      "source": [
        "# dataset\n",
        "\n",
        "mnist_train = datasets.MNIST(root='MNIST_data/',\n",
        "                          train=True,\n",
        "                          transform=transforms.ToTensor(),\n",
        "                          download=True\n",
        ")\n",
        "\n",
        "mnist_test = datasets.MNIST(root='MNIST_data/',\n",
        "                          train=False,\n",
        "                          transform=transforms.ToTensor(),\n",
        "                          download=True\n",
        ")\n",
        "\n",
        "train_loader = DataLoader(dataset=mnist_train,\n",
        "                          batch_size=batch_size,\n",
        "                          shuffle=True,\n",
        "                          drop_last=True)\n",
        "\n",
        "test_loader = DataLoader(dataset=mnist_test,\n",
        "                         batch_size=batch_size,\n",
        "                         shuffle=False\n",
        "                         )\n",
        "\n",
        "# class\n",
        "\n",
        "class CNN(nn.Module):\n",
        "  def __init__(self):\n",
        "    super().__init__()\n",
        "    \n",
        "    # 28 x 28 x 1  ->  28 x 28 x 32  ->  14 x 14 x 32\n",
        "\n",
        "    self.layer1 = nn.Sequential(\n",
        "        nn.Conv2d(1, 32, kernel_size=3, stride=1, padding=1),   \n",
        "        nn.ReLU(),\n",
        "        nn.MaxPool2d(kernel_size=2, stride=2)\n",
        "    )\n",
        "\n",
        "    # 14 x 14 x 32  ->  14 x 14 x 64  ->  7 x 7 x 64\n",
        "\n",
        "    self.layer2 = nn.Sequential(\n",
        "        nn.Conv2d(32, 64, kernel_size=3, stride=1, padding=1),\n",
        "        nn.ReLU(),\n",
        "        nn.MaxPool2d(kernel_size=2, stride=2)\n",
        "    )\n",
        "\n",
        "    # 7 x 7 x 64  ->  7 x 7 x 128  ->  4 x 4 x 128\n",
        "\n",
        "    self.layer3 = nn.Sequential(\n",
        "        nn.Conv2d(64, 128, kernel_size=3, stride=1, padding=1),\n",
        "        nn.ReLU(),\n",
        "        nn.MaxPool2d(kernel_size=2, stride=2, padding=1)\n",
        "    )\n",
        "\n",
        "    # 4 x 4 x 128\n",
        "\n",
        "    self.fc1 = nn.Linear(4*4*128, 625, bias=True)\n",
        "    nn.init.xavier_uniform_(self.fc1.weight)\n",
        "    \n",
        "    self.layer4 = nn.Sequential(\n",
        "        self.fc1,\n",
        "        nn.ReLU(),\n",
        "        nn.Dropout(p=0.5)\n",
        "    )\n",
        "\n",
        "    self.fc2 = nn.Linear(625, 10, bias=True)\n",
        "    nn.init.xavier_uniform_(self.fc2.weight)\n",
        "\n",
        "  def forward(self, x):\n",
        "    x = self.layer1(x)\n",
        "    x = self.layer2(x)\n",
        "    x = self.layer3(x)\n",
        "    x = self.layer4(x.view(-1, 4*4*128))\n",
        "\n",
        "    return self.fc2(x)\n",
        "\n",
        "\n",
        "model = CNN().to(device)\n",
        "\n",
        "criterion = nn.CrossEntropyLoss()\n",
        "optimizer = torch.optim.Adam(model.parameters(), lr=learning_rate)\n",
        "\n",
        "def train(epoch):\n",
        "  model.train()\n",
        "  avg_loss = 0\n",
        "\n",
        "  for data, target in train_loader:\n",
        "      data, target = data.to(device), target.to(device)\n",
        "\n",
        "      optimizer.zero_grad()\n",
        "      hypothesis = model(data)\n",
        "      loss = criterion(hypothesis, target)\n",
        "      loss.backward()\n",
        "      optimizer.step()\n",
        "\n",
        "      avg_loss += loss / len(train_loader)\n",
        "\n",
        "  print('[Epoch: {:>4}] loss = {:>.9}'.format(epoch + 1, avg_loss))\n",
        "\n",
        "\n",
        "def test():\n",
        "  model.eval()\n",
        "  correct = 0\n",
        "\n",
        "  for data, target in test_loader:\n",
        "    output = model(data)\n",
        "    predicted = output.data.max(1, keepdim=True)[1]\n",
        "    correct += predicted.eq(target.data.view_as(predicted)).sum()  \n",
        "\n",
        "  data_num = len(test_loader.dataset)  # 데이터 총 건수\n",
        "  print('\\n테스트 데이터에서 예측 정확도: {}/{} ({:.0f}%)\\n'.format(correct,\n",
        "                                                   data_num, 100. * correct / data_num))\n",
        "\n",
        "if __name__ == '__main__':\n",
        "  for epoch in range(training_epochs):\n",
        "    train(epoch)\n",
        "\n",
        "  test()\n"
      ],
      "metadata": {
        "colab": {
          "base_uri": "https://localhost:8080/"
        },
        "id": "42hiVBRXiL4E",
        "outputId": "073a15e6-c6d0-401e-b2d6-040190e8df20"
      },
      "execution_count": 9,
      "outputs": [
        {
          "output_type": "stream",
          "name": "stdout",
          "text": [
            "[Epoch:    1] loss = 0.194110334\n",
            "[Epoch:    2] loss = 0.0504854359\n",
            "[Epoch:    3] loss = 0.0340362564\n",
            "[Epoch:    4] loss = 0.0255185086\n",
            "[Epoch:    5] loss = 0.0225109942\n",
            "\n",
            "테스트 데이터에서 예측 정확도: 9943/10000 (99%)\n",
            "\n"
          ]
        }
      ]
    }
  ]
}