{
  "nbformat": 4,
  "nbformat_minor": 0,
  "metadata": {
    "colab": {
      "name": "Perceptron.ipynb",
      "provenance": [],
      "collapsed_sections": []
    },
    "kernelspec": {
      "name": "python3",
      "display_name": "Python 3"
    },
    "language_info": {
      "name": "python"
    }
  },
  "cells": [
    {
      "cell_type": "markdown",
      "source": [
        "###**XOR Problem**"
      ],
      "metadata": {
        "id": "CZUW01XFzbYu"
      }
    },
    {
      "cell_type": "code",
      "source": [
        "import torch\n",
        "import torch.nn as nn"
      ],
      "metadata": {
        "id": "vsTCeVxml7VE"
      },
      "execution_count": null,
      "outputs": []
    },
    {
      "cell_type": "code",
      "source": [
        "device = 'cuda' if torch.cuda.is_available() else 'cpu'\n",
        "torch.manual_seed(777)\n",
        "\n",
        "if device == 'cuda':\n",
        "  torch.cuda.manual_seed_all(777)"
      ],
      "metadata": {
        "id": "z5gomkiwl8-H"
      },
      "execution_count": null,
      "outputs": []
    },
    {
      "cell_type": "code",
      "execution_count": null,
      "metadata": {
        "colab": {
          "base_uri": "https://localhost:8080/"
        },
        "id": "GixjbCYalF1f",
        "outputId": "a4704ed4-805a-4d04-b0a6-55005f3fbee7"
      },
      "outputs": [
        {
          "output_type": "stream",
          "name": "stdout",
          "text": [
            "0.00010565484262770042\n",
            "모델의 출력값:  tensor([[9.4587e-05],\n",
            "        [9.9989e-01],\n",
            "        [9.9990e-01],\n",
            "        [1.1471e-04]], grad_fn=<SigmoidBackward0>)\n",
            "모델의 예측값:  tensor([[0.],\n",
            "        [1.],\n",
            "        [1.],\n",
            "        [0.]])\n",
            "실제값:  tensor([[0.],\n",
            "        [1.],\n",
            "        [1.],\n",
            "        [0.]])\n"
          ]
        }
      ],
      "source": [
        "# 0은 거짓 1은 참 이라고 생각하자.\n",
        "\n",
        "X = torch.FloatTensor([[0, 0], [0, 1], [1, 0], [1, 1]]).to(device)\n",
        "Y = torch.FloatTensor([[0], [1], [1], [0]]).to(device)\n",
        "\n",
        "class XOR_gate(nn.Module):\n",
        "  def __init__(self):\n",
        "    super().__init__()\n",
        "    self.linear = nn.Sequential(\n",
        "                    nn.Linear(2, 10, bias=True),\n",
        "                    nn.Sigmoid(),\n",
        "                    nn.Linear(10, 10, bias=True),\n",
        "                    nn.Sigmoid(),\n",
        "                    nn.Linear(10, 10, bias=True),\n",
        "                    nn.Sigmoid(),\n",
        "                    nn.Linear(10, 1, bias=True),\n",
        "                    nn.Sigmoid()\n",
        "    )\n",
        "\n",
        "  def forward(self, x):\n",
        "    return self.linear(x)\n",
        "\n",
        "\n",
        "model = XOR_gate()\n",
        "model.to(device)\n",
        "\n",
        "criterion = nn.BCELoss()\n",
        "optimizer = torch.optim.SGD(model.parameters(), lr=1)\n",
        "\n",
        "def train():\n",
        "  model.train()\n",
        "\n",
        "  for step in range(10001):\n",
        "    optimizer.zero_grad()\n",
        "    pred = model(X)\n",
        "\n",
        "    loss = criterion(pred, Y)\n",
        "    loss.backward()\n",
        "    optimizer.step()\n",
        "\n",
        "\n",
        "if __name__ == '__main__':\n",
        "  train()\n",
        "  \n",
        "  hypothesis = model(X)\n",
        "  predicted = (hypothesis > 0.5).float()\n",
        "\n",
        "  print('모델의 출력값: ', hypothesis)\n",
        "  print('모델의 예측값: ', predicted)\n",
        "  print('실제값: ', Y)"
      ]
    },
    {
      "cell_type": "markdown",
      "source": [
        "###**다층 퍼셉트론으로 sklearn 손글씨 분류하기**"
      ],
      "metadata": {
        "id": "vS_Rbvg1zjOd"
      }
    },
    {
      "cell_type": "code",
      "source": [
        "%matplotlib inline\n",
        "import matplotlib.pyplot as plt\n",
        "from sklearn.datasets import load_digits\n",
        "from torch import cuda\n",
        "\n",
        "training_epochs = 100\n",
        "device = 'cuda' if cuda.is_available() else 'cpu'\n",
        "print(f'Training sklearn Model on {device}\\n{\"=\"*44}')\n",
        "\n",
        "digits = load_digits()"
      ],
      "metadata": {
        "colab": {
          "base_uri": "https://localhost:8080/"
        },
        "id": "1EeiCDN7t2ad",
        "outputId": "4269fe22-e669-4352-f052-935fe9f18606"
      },
      "execution_count": null,
      "outputs": [
        {
          "output_type": "stream",
          "name": "stdout",
          "text": [
            "Training sklearn Model on cpu\n",
            "============================================\n"
          ]
        }
      ]
    },
    {
      "cell_type": "code",
      "source": [
        "images_and_labels = list(zip(digits.images, digits.target))\n",
        "for index, (image, label) in enumerate(images_and_labels[:5]): # 5개의 샘플만 출력\n",
        "    plt.subplot(2, 5, index + 1)\n",
        "    plt.axis('off')\n",
        "    plt.imshow(image, cmap=plt.cm.gray_r, interpolation='nearest')\n",
        "    plt.title('sample: %i' % label)"
      ],
      "metadata": {
        "colab": {
          "base_uri": "https://localhost:8080/",
          "height": 105
        },
        "id": "QHSZfdZjCWHZ",
        "outputId": "c9ef0166-65a1-478d-c329-a17e132895e7"
      },
      "execution_count": null,
      "outputs": [
        {
          "output_type": "display_data",
          "data": {
            "text/plain": [
              "<Figure size 432x288 with 5 Axes>"
            ],
            "image/png": "[encoded data removed]"
          },
          "metadata": {
            "needs_background": "light"
          }
        }
      ]
    },
    {
      "cell_type": "code",
      "source": [
        "# digits.images 는 8x8 행렬로 저장하지만 digits.data는 64차원의 행렬로 저장됩니다.\n",
        "digits.data[0]"
      ],
      "metadata": {
        "colab": {
          "base_uri": "https://localhost:8080/"
        },
        "id": "APTC_xsIFOu9",
        "outputId": "b5cbeedd-1e61-44c2-fcd8-22f50007bec9"
      },
      "execution_count": null,
      "outputs": [
        {
          "output_type": "execute_result",
          "data": {
            "text/plain": [
              "array([ 0.,  0.,  5., 13.,  9.,  1.,  0.,  0.,  0.,  0., 13., 15., 10.,\n",
              "       15.,  5.,  0.,  0.,  3., 15.,  2.,  0., 11.,  8.,  0.,  0.,  4.,\n",
              "       12.,  0.,  0.,  8.,  8.,  0.,  0.,  5.,  8.,  0.,  0.,  9.,  8.,\n",
              "        0.,  0.,  4., 11.,  0.,  1., 12.,  7.,  0.,  0.,  2., 14.,  5.,\n",
              "       10., 12.,  0.,  0.,  0.,  0.,  6., 13., 10.,  0.,  0.,  0.])"
            ]
          },
          "metadata": {},
          "execution_count": 56
        }
      ]
    },
    {
      "cell_type": "code",
      "source": [
        "import torch\n",
        "import torch.nn as nn"
      ],
      "metadata": {
        "id": "N3Pa5dDXF4iD"
      },
      "execution_count": null,
      "outputs": []
    },
    {
      "cell_type": "code",
      "source": [
        "# dataset\n",
        "\n",
        "X = torch.tensor(digits.data, dtype=torch.float32)\n",
        "Y = torch.tensor(digits.target, dtype=torch.int64)\n",
        "\n",
        "# class\n",
        "\n",
        "class digits_classification(nn.Module):\n",
        "  def __init__(self):\n",
        "    super().__init__()\n",
        "    self.clf = nn.Sequential(\n",
        "                  nn.Linear(64, 32),\n",
        "                  nn.ReLU(),\n",
        "                  nn.Linear(32, 16),\n",
        "                  nn.ReLU(),\n",
        "                  nn.Linear(16, 10)\n",
        "    )\n",
        "  def forward(self, x):\n",
        "    return self.clf(x)\n",
        "\n",
        "# model\n",
        "\n",
        "model = digits_classification()\n",
        "model.to(device)\n",
        "\n",
        "# Training Setup\n",
        "\n",
        "criterion = nn.CrossEntropyLoss()\n",
        "optimizer = torch.optim.Adam(model.parameters())\n",
        "\n",
        "# Training Function\n",
        "\n",
        "def train():\n",
        "  model.train()\n",
        "\n",
        "  for data, target in list(zip(X, Y)):\n",
        "    data, target = data.to(device), target.to(device)\n",
        "\n",
        "    optimizer.zero_grad()\n",
        "    output = model(data)\n",
        "    loss = criterion(output, target)\n",
        "    loss.backward()\n",
        "    optimizer.step()\n",
        "  \n",
        "  return loss.item()\n",
        "\n",
        "if __name__ == '__main__':\n",
        "  losses = []\n",
        "\n",
        "  for epoch in range(training_epochs):\n",
        "    losses.append(train())\n",
        "\n",
        "  plt.plot(losses)\n"
      ],
      "metadata": {
        "colab": {
          "base_uri": "https://localhost:8080/",
          "height": 265
        },
        "id": "0WNEpIBPGGJH",
        "outputId": "f4a44c24-b391-43d0-fdee-62d359e83e71"
      },
      "execution_count": null,
      "outputs": [
        {
          "output_type": "display_data",
          "data": {
            "text/plain": [
              "<Figure size 432x288 with 1 Axes>"
            ],
            "image/png": "[encoded data removed]"
          },
          "metadata": {
            "needs_background": "light"
          }
        }
      ]
    },
    {
      "cell_type": "markdown",
      "source": [
        "###**다층 퍼셉트론으로 MNIST 분류하기**"
      ],
      "metadata": {
        "id": "Bq9nCvPAPMvE"
      }
    },
    {
      "cell_type": "code",
      "source": [
        "import numpy as np\n",
        "import matplotlib.pyplot as plt\n",
        "%matplotlib inline\n",
        "from sklearn.datasets import fetch_openml"
      ],
      "metadata": {
        "id": "TFBVQgeJM5qY"
      },
      "execution_count": null,
      "outputs": []
    },
    {
      "cell_type": "code",
      "source": [
        "# dataset\n",
        "\n",
        "mnist = fetch_openml('mnist_784', version=1, cache=True)   # mnist.data, mnist.target"
      ],
      "metadata": {
        "id": "BjRw3eDKP0_r"
      },
      "execution_count": null,
      "outputs": []
    },
    {
      "cell_type": "code",
      "source": [
        "# data\n",
        "\n",
        "X = mnist.data / 255          # 총 70000개의 data이고 각각의 shape은 (784, )이다.\n",
        "Y = mnist.target.astype(np.int8)    # target은 처음에는 문자열로 나온다.\n",
        "\n",
        "print(X.shape)"
      ],
      "metadata": {
        "colab": {
          "base_uri": "https://localhost:8080/"
        },
        "id": "cmGc6so8Q40X",
        "outputId": "eea60cb2-0564-4064-9408-bdaaecf648f4"
      },
      "execution_count": null,
      "outputs": [
        {
          "output_type": "stream",
          "name": "stdout",
          "text": [
            "(70000, 784)\n"
          ]
        }
      ]
    },
    {
      "cell_type": "code",
      "source": [
        "import torch\n",
        "import torch.nn as nn\n",
        "from torch.utils.data import TensorDataset, DataLoader\n",
        "from sklearn.model_selection import train_test_split"
      ],
      "metadata": {
        "id": "41_GBsanSfPg"
      },
      "execution_count": null,
      "outputs": []
    },
    {
      "cell_type": "code",
      "source": [
        "USE_CUDA = torch.cuda.is_available()\n",
        "device = torch.device(\"cuda\" if USE_CUDA else \"cpu\")\n",
        "print(\"다음 기기로 학습합니다: \", device)"
      ],
      "metadata": {
        "colab": {
          "base_uri": "https://localhost:8080/"
        },
        "id": "Ts90QCUiXRLF",
        "outputId": "e49e9ab4-4c5f-4ffe-959c-eb3314a5108f"
      },
      "execution_count": null,
      "outputs": [
        {
          "output_type": "stream",
          "name": "stdout",
          "text": [
            "다음 기기로 학습합니다:  cpu\n"
          ]
        }
      ]
    },
    {
      "cell_type": "code",
      "source": [
        "X_train, X_test, Y_train, Y_test = train_test_split(X, Y, test_size=1/7, random_state=0)\n",
        "\n",
        "X_train = torch.Tensor(X_train.values)     # 여기서 .values를 안 쓰면 pandas dataframe 형태여서 안 먹힘\n",
        "X_test = torch.Tensor(X_test.values)\n",
        "Y_train = torch.LongTensor(Y_train.values)\n",
        "Y_test = torch.LongTensor(Y_test.values)\n",
        "\n",
        "train_dataset = TensorDataset(X_train, Y_train)\n",
        "test_dataset = TensorDataset(X_test, Y_test)\n",
        "\n",
        "train_loader = DataLoader(dataset=train_dataset, \n",
        "                          batch_size=64, \n",
        "                          shuffle=True\n",
        "                          )\n",
        "\n",
        "test_loader = DataLoader(dataset=test_dataset,\n",
        "                         batch_size=64,\n",
        "                         shuffle=False\n",
        "                         )\n",
        "\n",
        "class MNIST_Net(nn.Module):\n",
        "  def __init__(self):\n",
        "    super().__init__()\n",
        "    self.linear = nn.Sequential(\n",
        "                    nn.Linear(28*28, 100),\n",
        "                    nn.ReLU(),\n",
        "                    nn.Linear(100, 100),\n",
        "                    nn.ReLU(),\n",
        "                    nn.Linear(100, 10)\n",
        "    )\n",
        "\n",
        "  def forward(self, x):\n",
        "    return self.linear(x)\n",
        "\n",
        "\n",
        "model = MNIST_Net()\n",
        "model.to(device)\n",
        "\n",
        "criterion = nn.CrossEntropyLoss()\n",
        "optimizer = torch.optim.Adam(model.parameters(), lr=0.01)\n",
        "\n",
        "def train(epoch):\n",
        "    model.train()\n",
        "\n",
        "    for data, targets in train_loader:\n",
        "\n",
        "        optimizer.zero_grad()  \n",
        "        outputs = model(data)  \n",
        "        loss = criterion(outputs, targets)  \n",
        "        loss.backward()  \n",
        "        optimizer.step()  \n",
        "\n",
        "    print(\"epoch {}：완료\\n\".format(epoch))\n",
        "\n",
        "\n",
        "def test():\n",
        "    model.eval()  \n",
        "    correct = 0\n",
        "\n",
        "    with torch.no_grad():\n",
        "        for data, target in test_loader:\n",
        "            data, target = data.to(device), target.to(device)\n",
        "            output = model(data) \n",
        "\n",
        "            predicted = output.data.max(1, keepdim=True)[1] \n",
        "            correct += predicted.eq(target.data.view_as(predicted)).sum()  # 정답과 일치한 경우 정답 카운트를 증가\n",
        "\n",
        "    # 정확도 출력\n",
        "    data_num = len(test_loader.dataset)  # 데이터 총 건수\n",
        "    print('\\n테스트 데이터에서 예측 정확도: {}/{} ({:.0f}%)\\n'.format(correct,\n",
        "                                                   data_num, 100. * correct / data_num))\n",
        "    \n",
        "\n",
        "if __name__ == '__main__':\n",
        "  for epoch in range(3):\n",
        "    train(epoch)\n",
        "\n",
        "  test()"
      ],
      "metadata": {
        "colab": {
          "base_uri": "https://localhost:8080/"
        },
        "id": "qAtAOT3RT3Pw",
        "outputId": "775498ba-dd45-4e94-8418-9a1f5245a0f4"
      },
      "execution_count": null,
      "outputs": [
        {
          "output_type": "stream",
          "name": "stdout",
          "text": [
            "epoch 0：완료\n",
            "\n",
            "epoch 1：완료\n",
            "\n",
            "epoch 2：완료\n",
            "\n",
            "\n",
            "테스트 데이터에서 예측 정확도: 9612/10000 (96%)\n",
            "\n"
          ]
        }
      ]
    }
  ]
}