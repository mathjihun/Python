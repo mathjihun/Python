{
  "nbformat": 4,
  "nbformat_minor": 0,
  "metadata": {
    "colab": {
      "name": "Tensor Manipulation.ipynb",
      "provenance": [],
      "collapsed_sections": [],
      "authorship_tag": "ABX9TyOzU9ILU+l7QI9X5wMTsixy",
      "include_colab_link": true
    },
    "kernelspec": {
      "name": "python3",
      "display_name": "Python 3"
    },
    "language_info": {
      "name": "python"
    }
  },
  "cells": [
    {
      "cell_type": "markdown",
      "metadata": {
        "id": "view-in-github",
        "colab_type": "text"
      },
      "source": [
        "<a href=\"https://colab.research.google.com/github/mathjihun/Python/blob/pytorch/Tensor_Manipulation.ipynb\" target=\"_parent\"><img src=\"https://colab.research.google.com/assets/colab-badge.svg\" alt=\"Open In Colab\"/></a>"
      ]
    },
    {
      "cell_type": "markdown",
      "source": [
        "###**Numpy**"
      ],
      "metadata": {
        "id": "OlDRfYoryvSg"
      }
    },
    {
      "cell_type": "code",
      "execution_count": 1,
      "metadata": {
        "id": "44z-npU4rK35"
      },
      "outputs": [],
      "source": [
        "import numpy as np"
      ]
    },
    {
      "cell_type": "markdown",
      "source": [
        "###**1D with Numpy**"
      ],
      "metadata": {
        "id": "i9NUYFd6xMJB"
      }
    },
    {
      "cell_type": "code",
      "source": [
        "t = np.array([0., 1., 2., 3., 4., 5., 6.])\n",
        "print(t)\n",
        "\n",
        "print(\"rank of t: \", t.ndim)\n",
        "print(\"Shape of t: \", t.shape)\n",
        "\n",
        "print()\n",
        "print(\"t[0] = {}, t[1] = {}, t[-1] = {}\".format(t[0], t[1], t[-1]))\n",
        "print(\"t[2:5] = {}, t[4:-1] = {}\".format(t[2:5], t[4:-1]))\n",
        "print(\"t[3:] = {}, t[:5] = {}\".format(t[3:], t[:5]))"
      ],
      "metadata": {
        "colab": {
          "base_uri": "https://localhost:8080/"
        },
        "id": "JofL6lLxrWwD",
        "outputId": "b67e7177-f9b0-4aaf-d758-1d80a37fdcc6"
      },
      "execution_count": null,
      "outputs": [
        {
          "output_type": "stream",
          "name": "stdout",
          "text": [
            "[0. 1. 2. 3. 4. 5. 6.]\n",
            "rank of t:  1\n",
            "Shape of t:  (7,)\n",
            "\n",
            "t[0] = 0.0, t[1] = 1.0, t[-1] = 6.0\n",
            "t[2:5] = [2. 3. 4.], t[4:-1] = [4. 5.]\n",
            "t[3:] = [3. 4. 5. 6.], t[:5] = [0. 1. 2. 3. 4.]\n"
          ]
        }
      ]
    },
    {
      "cell_type": "markdown",
      "source": [
        "###**2D with Numpy**"
      ],
      "metadata": {
        "id": "7bCxW9a-xudS"
      }
    },
    {
      "cell_type": "code",
      "source": [
        "t = np.array([[1., 2., 3.], [4., 5., 6.], [7., 8., 9.], [10., 11., 12.]])\n",
        "print(t)\n",
        "print()\n",
        "\n",
        "print('Rank  of t: ', t.ndim)\n",
        "print('Shape of t: ', t.shape)"
      ],
      "metadata": {
        "colab": {
          "base_uri": "https://localhost:8080/"
        },
        "id": "A-pWU_jIwJ-R",
        "outputId": "0399af15-342c-4a1d-c9d1-173299a1a55b"
      },
      "execution_count": null,
      "outputs": [
        {
          "output_type": "stream",
          "name": "stdout",
          "text": [
            "[[ 1.  2.  3.]\n",
            " [ 4.  5.  6.]\n",
            " [ 7.  8.  9.]\n",
            " [10. 11. 12.]]\n",
            "Rank  of t:  2\n",
            "Shape of t:  (4, 3)\n"
          ]
        }
      ]
    },
    {
      "cell_type": "markdown",
      "source": [
        "###**Numpy 여러가지 기능**"
      ],
      "metadata": {
        "id": "FXCh8JN2LLRg"
      }
    },
    {
      "cell_type": "code",
      "source": [
        "A = np.array([[1, 2, 3], [4, 5, 6]])\n",
        "print(A)\n",
        "print()\n",
        "\n",
        "print(np.append(A, [4, 5]))   #한 줄로 펴주면서 뒤에 붙임"
      ],
      "metadata": {
        "colab": {
          "base_uri": "https://localhost:8080/"
        },
        "id": "IDnWjQQPLKxT",
        "outputId": "86962bfe-5c9a-4652-93b5-4fbd152d7ab1"
      },
      "execution_count": 7,
      "outputs": [
        {
          "output_type": "stream",
          "name": "stdout",
          "text": [
            "[[1 2 3]\n",
            " [4 5 6]]\n",
            "\n",
            "[1 2 3 4 5 6 4 5]\n"
          ]
        }
      ]
    },
    {
      "cell_type": "code",
      "source": [
        "z = np.zeros((3, 4))    #기본 dtype은 flaot이다.\n",
        "o = np.ones((2, 3))\n",
        "f = np.full((2, 3), 4)    #2행 3열을 4로 채우자.\n",
        "e = np.empty((3, 3))    #그냥 쓰레기값이 들어있는 3행 3열의 배열을 달라는 것\n",
        "i = np.eye(3)"
      ],
      "metadata": {
        "id": "i9V7EHQsL3tc"
      },
      "execution_count": 21,
      "outputs": []
    },
    {
      "cell_type": "code",
      "source": [
        "a = [[1, 2, 3], [4, 5, 6]]\n",
        "z = np.zeros_like(a)    #a와 같은 구조를 갖되 그것을 다 0으로 채워서 달라는 의미\n",
        "o = np.ones_like(a)\n",
        "e = np.empty_like(a)\n",
        "f = np.full_like(a, 2)"
      ],
      "metadata": {
        "id": "FaeAl34hMyth"
      },
      "execution_count": 22,
      "outputs": []
    },
    {
      "cell_type": "code",
      "source": [
        "k = np.arange(10)\n",
        "k2 = np.arange(24).reshape(-1, 6)\n",
        "ud = np.random.rand(2, 3)    #uniform distribution\n",
        "gd = np.random.randn(2, 2)    #Gaussian distribution\n",
        "\n",
        "print(k)\n",
        "print(k2)"
      ],
      "metadata": {
        "colab": {
          "base_uri": "https://localhost:8080/"
        },
        "id": "U1U7j-MmUh01",
        "outputId": "5fcde9c9-3930-496d-e976-243d157637cc"
      },
      "execution_count": 24,
      "outputs": [
        {
          "output_type": "stream",
          "name": "stdout",
          "text": [
            "[0 1 2 3 4 5 6 7 8 9]\n",
            "[[ 0  1  2  3  4  5]\n",
            " [ 6  7  8  9 10 11]\n",
            " [12 13 14 15 16 17]\n",
            " [18 19 20 21 22 23]]\n"
          ]
        }
      ]
    },
    {
      "cell_type": "code",
      "source": [
        "c = np.arange(16).reshape(-1, 4)\n",
        "\n",
        "bool_idx = (c > 10)\n",
        "print(bool_idx)\n",
        "print()\n",
        "print(c[bool_idx])"
      ],
      "metadata": {
        "colab": {
          "base_uri": "https://localhost:8080/"
        },
        "id": "7IW97-0QVDEH",
        "outputId": "20533da3-bc66-478d-a095-2eac79e3a3e4"
      },
      "execution_count": 28,
      "outputs": [
        {
          "output_type": "stream",
          "name": "stdout",
          "text": [
            "[[False False False False]\n",
            " [False False False False]\n",
            " [False False False  True]\n",
            " [ True  True  True  True]]\n",
            "\n",
            "[11 12 13 14 15]\n"
          ]
        }
      ]
    },
    {
      "cell_type": "code",
      "source": [
        "c = np.arange(8)\n",
        "d = np.arange(1, 9).reshape(8, -1)\n",
        "print(d)\n",
        "print()\n",
        "\n",
        "v = np.vstack((c, c, c, c))     #vertical 즉 수직으로 쌓는 것이기에 세로로 쌓인다.\n",
        "print(v)\n",
        "print()\n",
        "\n",
        "h = np.hstack((d, d, d, d))    #horizontal 즉 수평으로 쌓는 것이기에 가로로 쌓인다.\n",
        "print(h)\n",
        "print()\n",
        "\n",
        "t = np.arange(16).reshape(2, 2, 4)\n",
        "print(t.transpose(2, 1, 0))    # t[x][y][z] -> t[z][y][x]"
      ],
      "metadata": {
        "colab": {
          "base_uri": "https://localhost:8080/"
        },
        "id": "xkkmGQR_Yb3A",
        "outputId": "36162650-553b-4f6c-ae40-9493014b9030"
      },
      "execution_count": 41,
      "outputs": [
        {
          "output_type": "stream",
          "name": "stdout",
          "text": [
            "[[1]\n",
            " [2]\n",
            " [3]\n",
            " [4]\n",
            " [5]\n",
            " [6]\n",
            " [7]\n",
            " [8]]\n",
            "\n",
            "[[0 1 2 3 4 5 6 7]\n",
            " [0 1 2 3 4 5 6 7]\n",
            " [0 1 2 3 4 5 6 7]\n",
            " [0 1 2 3 4 5 6 7]]\n",
            "\n",
            "[[1 1 1 1]\n",
            " [2 2 2 2]\n",
            " [3 3 3 3]\n",
            " [4 4 4 4]\n",
            " [5 5 5 5]\n",
            " [6 6 6 6]\n",
            " [7 7 7 7]\n",
            " [8 8 8 8]]\n",
            "\n",
            "[[[ 0  8]\n",
            "  [ 4 12]]\n",
            "\n",
            " [[ 1  9]\n",
            "  [ 5 13]]\n",
            "\n",
            " [[ 2 10]\n",
            "  [ 6 14]]\n",
            "\n",
            " [[ 3 11]\n",
            "  [ 7 15]]]\n"
          ]
        }
      ]
    },
    {
      "cell_type": "code",
      "source": [
        "a = np.arange(24).reshape(4, -1)\n",
        "b = a.copy()     # a를 완전히 동일하게 복사하지만 서로 저장된 주소가 다르기 때문에 b를 고쳐도 a가 바뀌지 않는다. 둘이 동일하게 바뀌게 하고 싶으면 .view()를 이용\n",
        "\n",
        "c = np.concatenate((a, b), axis=-1)   # 이건 사실상 hstack((a, b))과 차이 x\n",
        "print(c, c.shape)\n",
        "print()\n",
        "\n",
        "c2 = np.concatenate((a, b), axis=0)   # 이건 사실상 vstack((a, b))과 차이 x\n",
        "print(c2, c2.shape)\n",
        "print()\n",
        "\n",
        "d = np.stack((a, b), axis=1)    #얘는 새로운 차원을 하나 만들어서 갖다 붙인다.\n",
        "print(d, d.shape)       #4x6이 4x2x6이 됨\n",
        "\n",
        "e = np.expand_dims(a, axis=0)    #4x6을 1x4x6으로 바꿈\n",
        "print(e, e.shape)"
      ],
      "metadata": {
        "colab": {
          "base_uri": "https://localhost:8080/"
        },
        "id": "MC4s66JPreH2",
        "outputId": "2e0201fa-6dea-4db1-9fd6-aab03f89a0c7"
      },
      "execution_count": 46,
      "outputs": [
        {
          "output_type": "stream",
          "name": "stdout",
          "text": [
            "[[ 0  1  2  3  4  5  0  1  2  3  4  5]\n",
            " [ 6  7  8  9 10 11  6  7  8  9 10 11]\n",
            " [12 13 14 15 16 17 12 13 14 15 16 17]\n",
            " [18 19 20 21 22 23 18 19 20 21 22 23]] (4, 12)\n",
            "\n",
            "[[ 0  1  2  3  4  5]\n",
            " [ 6  7  8  9 10 11]\n",
            " [12 13 14 15 16 17]\n",
            " [18 19 20 21 22 23]\n",
            " [ 0  1  2  3  4  5]\n",
            " [ 6  7  8  9 10 11]\n",
            " [12 13 14 15 16 17]\n",
            " [18 19 20 21 22 23]] (8, 6)\n",
            "\n",
            "[[[ 0  1  2  3  4  5]\n",
            "  [ 0  1  2  3  4  5]]\n",
            "\n",
            " [[ 6  7  8  9 10 11]\n",
            "  [ 6  7  8  9 10 11]]\n",
            "\n",
            " [[12 13 14 15 16 17]\n",
            "  [12 13 14 15 16 17]]\n",
            "\n",
            " [[18 19 20 21 22 23]\n",
            "  [18 19 20 21 22 23]]] (4, 2, 6)\n",
            "[[[ 0  1  2  3  4  5]\n",
            "  [ 6  7  8  9 10 11]\n",
            "  [12 13 14 15 16 17]\n",
            "  [18 19 20 21 22 23]]] (1, 4, 6)\n"
          ]
        }
      ]
    },
    {
      "cell_type": "code",
      "source": [
        "e = np.arange(32).reshape(8, 4)\n",
        "\n",
        "print(e)\n",
        "print()\n",
        "\n",
        "print(e[[1, 5, 7, 2]])     # index 1, 5, 7, 2인 행을 가져와서 쌓아준다.\n",
        "print()\n",
        "\n",
        "print(e[[1, 5, 7, 2], [0, 3, 1, 2]])     # index가 (1, 0), (5, 3), (7, 1), (2, 2)인 요소들로 새롭게 array를 만든다.\n",
        "\n",
        "print()\n",
        "\n",
        "print(e[[1, 5, 7, 2]][:, [0, 3, 1, 2]])     # 이 경우는 e[[1, 5, 7, 2]]에다가 [:, [0, 3, 1, 2]]가 붙은 것이므로 e[[1, 5, 7, 2]]가 열 위치만 바꾸게 된다."
      ],
      "metadata": {
        "colab": {
          "base_uri": "https://localhost:8080/"
        },
        "id": "ZME12VFZZ8pd",
        "outputId": "4ae9c663-1ab6-461e-e23b-b7d2ea2b015e"
      },
      "execution_count": 38,
      "outputs": [
        {
          "output_type": "stream",
          "name": "stdout",
          "text": [
            "[[ 0  1  2  3]\n",
            " [ 4  5  6  7]\n",
            " [ 8  9 10 11]\n",
            " [12 13 14 15]\n",
            " [16 17 18 19]\n",
            " [20 21 22 23]\n",
            " [24 25 26 27]\n",
            " [28 29 30 31]]\n",
            "\n",
            "[[ 4  5  6  7]\n",
            " [20 21 22 23]\n",
            " [28 29 30 31]\n",
            " [ 8  9 10 11]]\n",
            "\n",
            "[ 4 23 29 10]\n",
            "\n",
            "[[ 4  7  5  6]\n",
            " [20 23 21 22]\n",
            " [28 31 29 30]\n",
            " [ 8 11  9 10]]\n"
          ]
        }
      ]
    },
    {
      "cell_type": "code",
      "source": [
        "z = np.arange(1, 25).reshape(2, 3, 4)\n",
        "print(z)\n",
        "print()\n",
        "\n",
        "print(np.sum(z))\n",
        "print()\n",
        "\n",
        "print(np.sum(z, axis=0))    #즉 3, 4가 된다     z[0, :, :] + z[1, :, :]\n",
        "print(np.sum(z, axis=1))    #즉 2, 4가 된다.    z[:, 0, :] + z[:, 1, :] + z[:, 2, :]\n",
        "print(np.sum(z, axis=2))    #즉 2, 3이 된다.    z[:, :, 0] + z[:, :, 1] + z[:, :, 2] + z[:, :, 3]\n",
        "\n",
        "# 다만 이 부분은 torch에서 하는 게 더 좋아 보인다. 딱히 차이는 없다. 좀 더 간결해진다."
      ],
      "metadata": {
        "id": "pR6C19qIw8i_"
      },
      "execution_count": null,
      "outputs": []
    },
    {
      "cell_type": "markdown",
      "source": [
        "###**Pytorch with Tensor**"
      ],
      "metadata": {
        "id": "1UGYOCk9ylFh"
      }
    },
    {
      "cell_type": "code",
      "source": [
        "import torch"
      ],
      "metadata": {
        "id": "Dc91ZijSypbr"
      },
      "execution_count": 50,
      "outputs": []
    },
    {
      "cell_type": "markdown",
      "source": [
        "###**1D with PyTorch**"
      ],
      "metadata": {
        "id": "ZU3mb7O_y1in"
      }
    },
    {
      "cell_type": "code",
      "source": [
        "t = torch.FloatTensor([0, 1, 2, 3, 4, 5, 6])\n",
        "print(t)\n",
        "print()\n",
        "\n",
        "print(t.dim())\n",
        "print(t.shape)\n",
        "print(t.size())\n",
        "\n",
        "print()\n",
        "print(t[0], t[1], t[-1])  \n",
        "print(t[2:5], t[4:-1])    \n",
        "print(t[:2], t[3:])       "
      ],
      "metadata": {
        "colab": {
          "base_uri": "https://localhost:8080/"
        },
        "id": "lUgdDaKTyrkE",
        "outputId": "e72d6c70-ac83-42d0-fbb6-a638b301edd9"
      },
      "execution_count": null,
      "outputs": [
        {
          "output_type": "stream",
          "name": "stdout",
          "text": [
            "tensor([0., 1., 2., 3., 4., 5., 6.])\n",
            "\n",
            "1\n",
            "torch.Size([7])\n",
            "torch.Size([7])\n",
            "\n",
            "tensor(0.) tensor(1.) tensor(6.)\n",
            "tensor([2., 3., 4.]) tensor([4., 5.])\n",
            "tensor([0., 1.]) tensor([3., 4., 5., 6.])\n"
          ]
        }
      ]
    },
    {
      "cell_type": "markdown",
      "source": [
        "###**2D with PyTorch**"
      ],
      "metadata": {
        "id": "nIFgg-1TzTrR"
      }
    },
    {
      "cell_type": "code",
      "source": [
        "t = torch.FloatTensor([[1., 2., 3.],\n",
        "                       [4., 5., 6.],\n",
        "                       [7., 8., 9.],\n",
        "                       [10., 11., 12.]\n",
        "                      ])\n",
        "print(t)\n",
        "print()\n",
        "\n",
        "print(t.dim())  \n",
        "print(t.size()) \n",
        "\n",
        "print(t[:, 1:])\n",
        "print(t[1:3, 1:2])    #기존 python 배열에서는 안 되던 부분"
      ],
      "metadata": {
        "colab": {
          "base_uri": "https://localhost:8080/"
        },
        "id": "TbRceaU2y92Q",
        "outputId": "12aa1420-40b6-48fc-e839-a4601f244815"
      },
      "execution_count": null,
      "outputs": [
        {
          "output_type": "stream",
          "name": "stdout",
          "text": [
            "tensor([[ 1.,  2.,  3.],\n",
            "        [ 4.,  5.,  6.],\n",
            "        [ 7.,  8.,  9.],\n",
            "        [10., 11., 12.]])\n",
            "\n",
            "2\n",
            "torch.Size([4, 3])\n",
            "tensor([[ 2.,  3.],\n",
            "        [ 5.,  6.],\n",
            "        [ 8.,  9.],\n",
            "        [11., 12.]])\n",
            "tensor([[5.],\n",
            "        [8.]])\n"
          ]
        }
      ]
    },
    {
      "cell_type": "markdown",
      "source": [
        "###**Broadcasting**"
      ],
      "metadata": {
        "id": "gc7MiSSy0Fco"
      }
    },
    {
      "cell_type": "markdown",
      "source": [
        "broadcasting의 규칙\n",
        "\n",
        "1. 배열의 랭크가 같지 않으면 두 모양이 같은 길이가 될 때까지 배열의 낮은 랭크 쪽에 1을 붙입니다.\n",
        "\n",
        "2. 두 배열은 차원에서 크기가 같거나 배열 중 하나의 차원에 크기가 1인 경우 차원에서 호환 가능하다고 합니다.\n",
        "\n",
        "3. 배열은 모든 차원에서 호환되면 함께 broadcast 될 수 있습니다.\n",
        "\n",
        "4. broadcast 후 각 배열은 두 개의 입력 배열의 요소 모양 최대 개수와 동일한 모양을 가진 것처럼 동작합니다.\n",
        "\n",
        "5. 한 배열의 크기가 1이고 다른 배열의 크기가 1보다 큰 차원에서 첫 번째 배열은 마치 해당 차원을 따라 복사된 것처럼 작동합니다.\n",
        "\n",
        "실제로 동작하는 방식\n",
        "\n",
        "1. A와 B의 모양을 생각합니다.\n",
        "\n",
        "2. 두 배열이 len(A.shape) == len(B.shape)인지 확인을 합니다.\n",
        "\n",
        "3. 같지 않은 경우에는 두 배열의 모양 길이가 같아질때까지 적은 쪽의 shape 앞에 1을 추가해줍니다.\n",
        "ex) (5, 3) -> (1, 5, 3)\n",
        "\n",
        "4. shape이 1인 곳은 복사가 됩니다.\n",
        "ex) (5, 3) + (3, ) \n",
        " -> (5, 3) + (1, 3) \n",
        " -> (5, 3) + (5, 3)\n",
        "\n",
        " 추가적으로 예를 들어 (1, 2)와 (1, 3)은 연산이 불가능하다.\n",
        " 왜냐하면 일단 차원이 같다.\n",
        " 다음으로 1=1 ok 다음으로\n",
        " 2 != 3 -> 둘중 하나가 1인가? No 따라서 불가능"
      ],
      "metadata": {
        "id": "9mrwbf_RrQOY"
      }
    },
    {
      "cell_type": "code",
      "source": [
        "a = np.arange(9).reshape(3, 3)\n",
        "b = np.full_like(a, 2)\n",
        "\n",
        "print(a*b)    # elementwise multiplication\n",
        "print(a@b)    # matrix multiplication\n",
        "\n",
        "t = torch.from_numpy(a*b)    # numpy => torch\n",
        "\n",
        "t = t.type(torch.float64)    # type()을 통하여서 data type을 바꿀 수 있다.\n",
        "# 다만 t.float() 이렇게 해도 바꿀 수 있다.\n",
        "\n",
        "t_mean = t.mean()\n",
        "t_mean0 = t.mean(dim=0)     # 평균을 구할 수 있다. t[0, :], t[1, :], t[2, :]의 평균\n",
        "t_mean1 = t.mean(dim=1)     # 평균을 구할 수 있다. t[:, 0], t[:, 1], t[:, 2]의 평균\n",
        "\n",
        "print(t_mean, t_mean0, t_mean1)"
      ],
      "metadata": {
        "id": "lHKIW3YdzX_G",
        "colab": {
          "base_uri": "https://localhost:8080/"
        },
        "outputId": "09bb1cf8-a394-4ab9-a228-a2582d84d1ad"
      },
      "execution_count": 100,
      "outputs": [
        {
          "output_type": "stream",
          "name": "stdout",
          "text": [
            "[[ 0  2  4]\n",
            " [ 6  8 10]\n",
            " [12 14 16]]\n",
            "[[ 6  6  6]\n",
            " [24 24 24]\n",
            " [42 42 42]]\n",
            "tensor(8., dtype=torch.float64) tensor([ 6.,  8., 10.], dtype=torch.float64) tensor([ 2.,  8., 14.], dtype=torch.float64)\n"
          ]
        }
      ]
    },
    {
      "cell_type": "code",
      "source": [
        "z = torch.arange(1, 25).reshape(2, 3, 4)\n",
        "print(z)\n",
        "print()\n",
        "\n",
        "print(z.sum())\n",
        "print()\n",
        "\n",
        "print(z.sum(dim=0))    #즉 3, 4가 된다     z[0, :, :] + z[1, :, :]\n",
        "print(z.sum(dim=1))    #즉 2, 4가 된다.    z[:, 0, :] + z[:, 1, :] + z[:, 2, :]\n",
        "print(z.sum(dim=2))    #즉 2, 3이 된다.    z[:, :, 0] + z[:, :, 1] + z[:, :, 2] + z[:, :, 3]"
      ],
      "metadata": {
        "colab": {
          "base_uri": "https://localhost:8080/"
        },
        "id": "IumeVh_-rWsq",
        "outputId": "597c0fa2-878a-4c55-932d-aeed27435f2c"
      },
      "execution_count": 66,
      "outputs": [
        {
          "output_type": "stream",
          "name": "stdout",
          "text": [
            "tensor([[[ 1,  2,  3,  4],\n",
            "         [ 5,  6,  7,  8],\n",
            "         [ 9, 10, 11, 12]],\n",
            "\n",
            "        [[13, 14, 15, 16],\n",
            "         [17, 18, 19, 20],\n",
            "         [21, 22, 23, 24]]])\n",
            "\n",
            "tensor(300)\n",
            "\n",
            "tensor([[14, 16, 18, 20],\n",
            "        [22, 24, 26, 28],\n",
            "        [30, 32, 34, 36]])\n",
            "tensor([[15, 18, 21, 24],\n",
            "        [51, 54, 57, 60]])\n",
            "tensor([[10, 26, 42],\n",
            "        [58, 74, 90]])\n"
          ]
        }
      ]
    },
    {
      "cell_type": "code",
      "source": [
        "t = torch.FloatTensor([[1, 2], [3, 4]])\n",
        "\n",
        "print(t.max())\n",
        "print(t.max(dim=0))\n",
        "print()\n",
        "\n",
        "print(t.max(dim=0)[0])\n",
        "print(t.max(dim=0)[1])   # t.argmax(dim=0)\n",
        "\n",
        "# 물론 min도 전부 동일하게 적용된다."
      ],
      "metadata": {
        "colab": {
          "base_uri": "https://localhost:8080/"
        },
        "id": "buAORAhTvVu-",
        "outputId": "7b3f9eff-d446-4765-ded3-36b12f818036"
      },
      "execution_count": 70,
      "outputs": [
        {
          "output_type": "stream",
          "name": "stdout",
          "text": [
            "tensor(4.)\n",
            "torch.return_types.max(\n",
            "values=tensor([3., 4.]),\n",
            "indices=tensor([1, 1]))\n",
            "\n",
            "tensor([3., 4.])\n",
            "tensor([1, 1])\n"
          ]
        },
        {
          "output_type": "execute_result",
          "data": {
            "text/plain": [
              "tensor([1, 1])"
            ]
          },
          "metadata": {},
          "execution_count": 70
        }
      ]
    },
    {
      "cell_type": "code",
      "source": [
        "t = torch.arange(24).reshape(2, 2, 6)\n",
        "x = t.view(-1, 3)    # view와 reshape의 차이는? view는 원본 즉 여기서는 t와 x의 data를 공유하고 싶다면 사용합니다. 메모리도 절약 가능\n",
        "\n",
        "print(t)\n",
        "print(x)"
      ],
      "metadata": {
        "colab": {
          "base_uri": "https://localhost:8080/"
        },
        "id": "4VLdY-5oxLng",
        "outputId": "aff9f553-7967-46c9-c82f-8f4dfc0a41f0"
      },
      "execution_count": 73,
      "outputs": [
        {
          "output_type": "stream",
          "name": "stdout",
          "text": [
            "tensor([[[ 0,  1,  2,  3,  4,  5],\n",
            "         [ 6,  7,  8,  9, 10, 11]],\n",
            "\n",
            "        [[12, 13, 14, 15, 16, 17],\n",
            "         [18, 19, 20, 21, 22, 23]]])\n",
            "tensor([[ 0,  1,  2],\n",
            "        [ 3,  4,  5],\n",
            "        [ 6,  7,  8],\n",
            "        [ 9, 10, 11],\n",
            "        [12, 13, 14],\n",
            "        [15, 16, 17],\n",
            "        [18, 19, 20],\n",
            "        [21, 22, 23]])\n"
          ]
        }
      ]
    },
    {
      "cell_type": "code",
      "source": [
        "t = torch.arange(24).reshape(2, 2, 6)\n",
        "x = t.view(4, 1, 2, 1, -1)\n",
        "\n",
        "print(x.shape)\n",
        "\n",
        "y = x.squeeze()\n",
        "\n",
        "print(y.shape) # 1인 차원을 모두 제거합니다.\n",
        "\n",
        "z = y.unsqueeze(dim=0)\n",
        "\n",
        "print(z.shape)"
      ],
      "metadata": {
        "colab": {
          "base_uri": "https://localhost:8080/"
        },
        "id": "S9zxuL9qyV9o",
        "outputId": "f7244e11-3829-4ee9-c89c-c0fb892a83fd"
      },
      "execution_count": 84,
      "outputs": [
        {
          "output_type": "stream",
          "name": "stdout",
          "text": [
            "torch.Size([4, 1, 2, 1, 3])\n",
            "torch.Size([4, 2, 3])\n",
            "torch.Size([1, 4, 2, 3])\n"
          ]
        }
      ]
    },
    {
      "cell_type": "code",
      "source": [
        "x = torch.arange(4).view(-1, 2).float()\n",
        "y = torch.arange(5, 9).view(-1, 2).float()\n",
        "\n",
        "z1 = torch.cat([x, y], dim=0)   # numpy에서는 concatenate였지만 여기선 그냥 cat\n",
        "z2 = torch.cat([x, y], dim=1)   # 하나의 덩어리로서 쌓고 싶을 때 사용\n",
        "\n",
        "print(z1)\n",
        "print(z2)\n",
        "\n",
        "print()\n",
        "print(torch.stack([x, y]))       # 따로따로 구분해서 즉 데이터 추가 느낌으로 쌓고 싶을 때 사용\n",
        "print(torch.stack([x, y], dim=0))    # 첫번째 차원 방향으로 쌓는다.\n",
        "print(torch.stack([x, y], dim=1))    # 두번째 차원 방향으로 쌓는다."
      ],
      "metadata": {
        "colab": {
          "base_uri": "https://localhost:8080/"
        },
        "id": "XfzjDW8ey2Jl",
        "outputId": "d268a61f-3cd9-4076-f523-246be49c4428"
      },
      "execution_count": 98,
      "outputs": [
        {
          "output_type": "stream",
          "name": "stdout",
          "text": [
            "tensor([[0., 1.],\n",
            "        [2., 3.],\n",
            "        [5., 6.],\n",
            "        [7., 8.]])\n",
            "tensor([[0., 1., 5., 6.],\n",
            "        [2., 3., 7., 8.]])\n",
            "\n",
            "tensor([[[0., 1.],\n",
            "         [2., 3.]],\n",
            "\n",
            "        [[5., 6.],\n",
            "         [7., 8.]]])\n",
            "tensor([[[0., 1.],\n",
            "         [2., 3.]],\n",
            "\n",
            "        [[5., 6.],\n",
            "         [7., 8.]]])\n",
            "tensor([[[0., 1.],\n",
            "         [5., 6.]],\n",
            "\n",
            "        [[2., 3.],\n",
            "         [7., 8.]]])\n"
          ]
        }
      ]
    }
  ]
}