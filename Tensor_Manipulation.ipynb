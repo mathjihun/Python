{
  "nbformat": 4,
  "nbformat_minor": 0,
  "metadata": {
    "colab": {
      "name": "Tensor Manipulation.ipynb",
      "provenance": [],
      "collapsed_sections": [],
      "authorship_tag": "ABX9TyPio+WpOvk46EvneLM5OTIK",
      "include_colab_link": true
    },
    "kernelspec": {
      "name": "python3",
      "display_name": "Python 3"
    },
    "language_info": {
      "name": "python"
    }
  },
  "cells": [
    {
      "cell_type": "markdown",
      "metadata": {
        "id": "view-in-github",
        "colab_type": "text"
      },
      "source": [
        "<a href=\"https://colab.research.google.com/github/mathjihun/Python/blob/pytorch/Tensor_Manipulation.ipynb\" target=\"_parent\"><img src=\"https://colab.research.google.com/assets/colab-badge.svg\" alt=\"Open In Colab\"/></a>"
      ]
    },
    {
      "cell_type": "markdown",
      "source": [
        "###**Numpy**"
      ],
      "metadata": {
        "id": "OlDRfYoryvSg"
      }
    },
    {
      "cell_type": "code",
      "execution_count": 1,
      "metadata": {
        "id": "44z-npU4rK35"
      },
      "outputs": [],
      "source": [
        "import numpy as np"
      ]
    },
    {
      "cell_type": "markdown",
      "source": [
        "###**1D with Numpy**"
      ],
      "metadata": {
        "id": "i9NUYFd6xMJB"
      }
    },
    {
      "cell_type": "code",
      "source": [
        "t = np.array([0., 1., 2., 3., 4., 5., 6.])\n",
        "print(t)\n",
        "\n",
        "print(\"rank of t: \", t.ndim)\n",
        "print(\"Shape of t: \", t.shape)\n",
        "\n",
        "print()\n",
        "print(\"t[0] = {}, t[1] = {}, t[-1] = {}\".format(t[0], t[1], t[-1]))\n",
        "print(\"t[2:5] = {}, t[4:-1] = {}\".format(t[2:5], t[4:-1]))\n",
        "print(\"t[3:] = {}, t[:5] = {}\".format(t[3:], t[:5]))"
      ],
      "metadata": {
        "colab": {
          "base_uri": "https://localhost:8080/"
        },
        "id": "JofL6lLxrWwD",
        "outputId": "b67e7177-f9b0-4aaf-d758-1d80a37fdcc6"
      },
      "execution_count": 6,
      "outputs": [
        {
          "output_type": "stream",
          "name": "stdout",
          "text": [
            "[0. 1. 2. 3. 4. 5. 6.]\n",
            "rank of t:  1\n",
            "Shape of t:  (7,)\n",
            "\n",
            "t[0] = 0.0, t[1] = 1.0, t[-1] = 6.0\n",
            "t[2:5] = [2. 3. 4.], t[4:-1] = [4. 5.]\n",
            "t[3:] = [3. 4. 5. 6.], t[:5] = [0. 1. 2. 3. 4.]\n"
          ]
        }
      ]
    },
    {
      "cell_type": "markdown",
      "source": [
        "###**2D with Numpy**"
      ],
      "metadata": {
        "id": "7bCxW9a-xudS"
      }
    },
    {
      "cell_type": "code",
      "source": [
        "t = np.array([[1., 2., 3.], [4., 5., 6.], [7., 8., 9.], [10., 11., 12.]])\n",
        "print(t)\n",
        "print()\n",
        "\n",
        "print('Rank  of t: ', t.ndim)\n",
        "print('Shape of t: ', t.shape)"
      ],
      "metadata": {
        "colab": {
          "base_uri": "https://localhost:8080/"
        },
        "id": "A-pWU_jIwJ-R",
        "outputId": "0399af15-342c-4a1d-c9d1-173299a1a55b"
      },
      "execution_count": 8,
      "outputs": [
        {
          "output_type": "stream",
          "name": "stdout",
          "text": [
            "[[ 1.  2.  3.]\n",
            " [ 4.  5.  6.]\n",
            " [ 7.  8.  9.]\n",
            " [10. 11. 12.]]\n",
            "Rank  of t:  2\n",
            "Shape of t:  (4, 3)\n"
          ]
        }
      ]
    },
    {
      "cell_type": "markdown",
      "source": [
        "###**Pytorch with Tensor**"
      ],
      "metadata": {
        "id": "1UGYOCk9ylFh"
      }
    },
    {
      "cell_type": "code",
      "source": [
        "import torch"
      ],
      "metadata": {
        "id": "Dc91ZijSypbr"
      },
      "execution_count": 9,
      "outputs": []
    },
    {
      "cell_type": "markdown",
      "source": [
        "###**1D with PyTorch**"
      ],
      "metadata": {
        "id": "ZU3mb7O_y1in"
      }
    },
    {
      "cell_type": "code",
      "source": [
        "t = torch.FloatTensor([0, 1, 2, 3, 4, 5, 6])\n",
        "print(t)\n",
        "print()\n",
        "\n",
        "print(t.dim())\n",
        "print(t.shape)\n",
        "print(t.size())\n",
        "\n",
        "print()\n",
        "print(t[0], t[1], t[-1])  \n",
        "print(t[2:5], t[4:-1])    \n",
        "print(t[:2], t[3:])       "
      ],
      "metadata": {
        "colab": {
          "base_uri": "https://localhost:8080/"
        },
        "id": "lUgdDaKTyrkE",
        "outputId": "e72d6c70-ac83-42d0-fbb6-a638b301edd9"
      },
      "execution_count": 12,
      "outputs": [
        {
          "output_type": "stream",
          "name": "stdout",
          "text": [
            "tensor([0., 1., 2., 3., 4., 5., 6.])\n",
            "\n",
            "1\n",
            "torch.Size([7])\n",
            "torch.Size([7])\n",
            "\n",
            "tensor(0.) tensor(1.) tensor(6.)\n",
            "tensor([2., 3., 4.]) tensor([4., 5.])\n",
            "tensor([0., 1.]) tensor([3., 4., 5., 6.])\n"
          ]
        }
      ]
    },
    {
      "cell_type": "markdown",
      "source": [
        "###**2D with PyTorch**"
      ],
      "metadata": {
        "id": "nIFgg-1TzTrR"
      }
    },
    {
      "cell_type": "code",
      "source": [
        "t = torch.FloatTensor([[1., 2., 3.],\n",
        "                       [4., 5., 6.],\n",
        "                       [7., 8., 9.],\n",
        "                       [10., 11., 12.]\n",
        "                      ])\n",
        "print(t)\n",
        "print()\n",
        "\n",
        "print(t.dim())  \n",
        "print(t.size()) \n",
        "\n",
        "print(t[:, 1:])\n",
        "print(t[1:3, 1:2])    #기존 python 배열에서는 안 되던 부분"
      ],
      "metadata": {
        "colab": {
          "base_uri": "https://localhost:8080/"
        },
        "id": "TbRceaU2y92Q",
        "outputId": "12aa1420-40b6-48fc-e839-a4601f244815"
      },
      "execution_count": 16,
      "outputs": [
        {
          "output_type": "stream",
          "name": "stdout",
          "text": [
            "tensor([[ 1.,  2.,  3.],\n",
            "        [ 4.,  5.,  6.],\n",
            "        [ 7.,  8.,  9.],\n",
            "        [10., 11., 12.]])\n",
            "\n",
            "2\n",
            "torch.Size([4, 3])\n",
            "tensor([[ 2.,  3.],\n",
            "        [ 5.,  6.],\n",
            "        [ 8.,  9.],\n",
            "        [11., 12.]])\n",
            "tensor([[5.],\n",
            "        [8.]])\n"
          ]
        }
      ]
    },
    {
      "cell_type": "markdown",
      "source": [
        "###**Broadcasting**"
      ],
      "metadata": {
        "id": "gc7MiSSy0Fco"
      }
    },
    {
      "cell_type": "code",
      "source": [
        ""
      ],
      "metadata": {
        "id": "lHKIW3YdzX_G"
      },
      "execution_count": null,
      "outputs": []
    }
  ]
}